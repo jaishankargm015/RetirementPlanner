{
 "cells": [
  {
   "cell_type": "code",
   "execution_count": 230,
   "metadata": {},
   "outputs": [],
   "source": [
    "import statistics\n",
    "import math"
   ]
  },
  {
   "cell_type": "code",
   "execution_count": 231,
   "metadata": {},
   "outputs": [],
   "source": [
    "age = 23\n",
    "retirementAge = 50\n",
    "lifeExpectancy = 85\n",
    "\n",
    "\n",
    "inflationRate = 0.07\n",
    "interest = 0.12\n",
    "\n",
    "expectedIncomePerMonth = 100000\n",
    "continue_interest_after_maturity = 0"
   ]
  },
  {
   "cell_type": "code",
   "execution_count": 232,
   "metadata": {},
   "outputs": [],
   "source": [
    "def getCI(princ_amount, rate_of_int, time_period):\n",
    "    ci_future = princ_amount  * (math.pow((1 + rate_of_int), time_period))\n",
    "    return ci_future"
   ]
  },
  {
   "cell_type": "code",
   "execution_count": 233,
   "metadata": {},
   "outputs": [],
   "source": [
    "def getInflatedValue(amount, afterYears):\n",
    "    yearlyTotal = 12 * amount\n",
    "    adjustedYearlyTotal = getCI(amount, inflationRate, afterYears)\n",
    "    return adjustedYearlyTotal"
   ]
  },
  {
   "cell_type": "code",
   "execution_count": 234,
   "metadata": {},
   "outputs": [],
   "source": [
    "def calculateTotalRetirementEndowment(expectedIncomePerMonth, age, retirementAge, lifeExpectancy):\n",
    "    val = 0\n",
    "    rate = 1\n",
    "    if continue_interest_after_maturity:\n",
    "        for year in range(retirementAge, lifeExpectancy):\n",
    "            val += getInflatedValue(expectedIncomePerMonth, year)*rate\n",
    "            rate *= (1/(1+interest))\n",
    "    else:\n",
    "        for year in range(retirementAge, lifeExpectancy):\n",
    "            val += getInflatedValue(expectedIncomePerMonth, year)\n",
    "            \n",
    "    return val   "
   ]
  },
  {
   "cell_type": "code",
   "execution_count": 235,
   "metadata": {},
   "outputs": [],
   "source": [
    "def getMonthlyInvestment(finalValue, investmentDuration, interest):\n",
    "    val = (finalValue * interest)/((math.pow((1 + interest), investmentDuration)-1)*(1+interest))\n",
    "    val = val/12\n",
    "    val = (int)(val)\n",
    "    val = val + (10 - (val%10))                               \n",
    "    return val"
   ]
  },
  {
   "cell_type": "code",
   "execution_count": 236,
   "metadata": {},
   "outputs": [
    {
     "data": {
      "text/plain": [
       "178890"
      ]
     },
     "execution_count": 236,
     "metadata": {},
     "output_type": "execute_result"
    }
   ],
   "source": [
    "finalValue = calculateTotalRetirementEndowment(expectedIncomePerMonth, age, retirementAge, lifeExpectancy)\n",
    "monthly = getMonthlyInvestment(finalValue, (retirementAge-age), interest)\n",
    "monthly"
   ]
  },
  {
   "cell_type": "code",
   "execution_count": 237,
   "metadata": {},
   "outputs": [],
   "source": [
    "val = 0\n",
    "investment = monthly * 12\n",
    "for year in range(0,(retirementAge-age)):\n",
    "    val += investment\n",
    "    val += val*interest\n"
   ]
  },
  {
   "cell_type": "code",
   "execution_count": 238,
   "metadata": {},
   "outputs": [
    {
     "data": {
      "text/plain": [
       "(407204719.02452844, 407222807.58049923)"
      ]
     },
     "execution_count": 238,
     "metadata": {},
     "output_type": "execute_result"
    }
   ],
   "source": [
    "finalValue, val"
   ]
  },
  {
   "cell_type": "code",
   "execution_count": 239,
   "metadata": {},
   "outputs": [
    {
     "name": "stdout",
     "output_type": "stream",
     "text": [
      "You need to invest ₹ 178890 every month to meet your retirement goal!\n"
     ]
    }
   ],
   "source": [
    "print(\"You need to invest \"+ u\"\\u20B9\"+\" \"+(str)(monthly)+\" every month to meet your retirement goal!\")"
   ]
  },
  {
   "cell_type": "code",
   "execution_count": null,
   "metadata": {},
   "outputs": [],
   "source": []
  },
  {
   "cell_type": "code",
   "execution_count": null,
   "metadata": {},
   "outputs": [],
   "source": []
  },
  {
   "cell_type": "code",
   "execution_count": null,
   "metadata": {},
   "outputs": [],
   "source": []
  }
 ],
 "metadata": {
  "kernelspec": {
   "display_name": "Python 3",
   "language": "python",
   "name": "python3"
  },
  "language_info": {
   "codemirror_mode": {
    "name": "ipython",
    "version": 3
   },
   "file_extension": ".py",
   "mimetype": "text/x-python",
   "name": "python",
   "nbconvert_exporter": "python",
   "pygments_lexer": "ipython3",
   "version": "3.8.2"
  }
 },
 "nbformat": 4,
 "nbformat_minor": 4
}
